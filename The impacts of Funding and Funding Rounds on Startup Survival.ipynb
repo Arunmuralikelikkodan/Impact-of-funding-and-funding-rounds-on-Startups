{
 "cells": [
  {
   "cell_type": "markdown",
   "id": "ecec4faf",
   "metadata": {},
   "source": [
    "# The impacts of Funding and Funding Rounds on Startup Survival.\n",
    "### Domain: Startup Ecosysytem"
   ]
  },
  {
   "cell_type": "markdown",
   "id": "6ec89cbe",
   "metadata": {},
   "source": [
    "**Context :** Company X is a leading Indian online publisher dedicated to startup industry insights, is driven by a mission to empower its audience with actionable knowlegde.\n",
    "In the dynamic world of startups, the company recognizes the crucial need to answer a pivotal question. what financial factors differentiate thriving, currently operating startups from those of that cease operation."
   ]
  },
  {
   "cell_type": "markdown",
   "id": "41bd41e7",
   "metadata": {},
   "source": [
    "## Objective:\n"
   ]
  },
  {
   "cell_type": "markdown",
   "id": "7d07678b",
   "metadata": {},
   "source": [
    "This project seeks to address the critical question of wheather there are any significant difference between the mean funds raised by startups that are currently operating to that of those who have ceased operation. Additionally, we aim to investigate if there exist any disparity in the number of funding rounds between the currently operating startups and that has ceased operations."
   ]
  },
  {
   "cell_type": "markdown",
   "id": "f52ca0d0",
   "metadata": {},
   "source": [
    "#### Note: \n",
    "\n",
    "*- Dataset Credits--:*  *https://www.kaggle.com/datasets/yanmaksi/big-startup-secsees-fail-dataset-from-crunchbase* (Have applied filter on country and status column)\n"
   ]
  },
  {
   "cell_type": "markdown",
   "id": "e732138f",
   "metadata": {},
   "source": [
    "#### Plan Of Action: \n",
    "\n",
    "* *Formulating the hypothesis*: Craft a clear and testable hypothesis that lays the foundation for the analysis.\n",
    "\n",
    "* *Data Exploration and validation*: Deep dive into the data set to conduct a thorough examination on the quality and coherance of the data, while also have a deeper understanding of the data.\n",
    "\n",
    "* *Identifying the most appropriate statistical test*: Identity the statistical test that alligns most with the hypothesis and objectives.\n",
    "\n",
    "* *Statistical Analysis*: Apply the selected test on the dataset, and generate meaningful insights and draw statistically sound conclusions.\n",
    "\n",
    "* *conclude insights*: Summarize the findings and conclusions and drawn from the analysis, providing actionable insights  that addresses the research objectives.\n"
   ]
  },
  {
   "cell_type": "markdown",
   "id": "0cdecc58",
   "metadata": {},
   "source": [
    "#### Data Dictionary:\n",
    "\n",
    "* Name: Company Name\n",
    "* homepage_url: Startup Web Site\n",
    "* category_list: Field of company\n",
    "* funding_total_usd: Total funding recievde in USD\n",
    "* status: Operating status\n",
    "* country_code: Country Code\n",
    "* state_code : State Code of company location\n",
    "* region : Region of company location\n",
    "* city : City of company location\n",
    "* funding_rounds: No of funding rounds\n",
    "* founded_at: Year in which the company was founded\n",
    "* first_funding_at: Date of first funding recieved\n",
    "* last_funding_at: Date of the last funding recieved."
   ]
  },
  {
   "cell_type": "code",
   "execution_count": 1,
   "id": "a7cd7bb5",
   "metadata": {},
   "outputs": [],
   "source": [
    "# Importing all libraries\n",
    "import numpy as np\n",
    "import pandas as pd\n",
    "import matplotlib.pyplot as plt\n",
    "\n",
    "%matplotlib inline"
   ]
  },
  {
   "cell_type": "code",
   "execution_count": 2,
   "id": "d114d6a7",
   "metadata": {},
   "outputs": [
    {
     "name": "stderr",
     "output_type": "stream",
     "text": [
      "C:\\Users\\HP\\AppData\\Local\\Temp\\ipykernel_16804\\2148832168.py:2: FutureWarning: Inferring datetime64[ns] from data containing strings is deprecated and will be removed in a future version. To retain the old behavior explicitly pass Series(data, dtype=datetime64[ns])\n",
      "  df=pd.read_excel(r\"C:\\Users\\HP\\OneDrive\\Desktop\\Education\\Project\\Impact-of-funding-and-funding-rounds-on-Startups-growth-main\\Impact of Funding and Funding Rounds on Startup Survival.xlsx\")\n"
     ]
    }
   ],
   "source": [
    "# Loading the dataset\n",
    "df=pd.read_excel(r\"C:\\Users\\HP\\OneDrive\\Desktop\\Education\\Project\\Impact-of-funding-and-funding-rounds-on-Startups-growth-main\\Impact of Funding and Funding Rounds on Startup Survival.xlsx\")"
   ]
  },
  {
   "cell_type": "code",
   "execution_count": 3,
   "id": "4180eff7",
   "metadata": {},
   "outputs": [
    {
     "data": {
      "text/html": [
       "<div>\n",
       "<style scoped>\n",
       "    .dataframe tbody tr th:only-of-type {\n",
       "        vertical-align: middle;\n",
       "    }\n",
       "\n",
       "    .dataframe tbody tr th {\n",
       "        vertical-align: top;\n",
       "    }\n",
       "\n",
       "    .dataframe thead th {\n",
       "        text-align: right;\n",
       "    }\n",
       "</style>\n",
       "<table border=\"1\" class=\"dataframe\">\n",
       "  <thead>\n",
       "    <tr style=\"text-align: right;\">\n",
       "      <th></th>\n",
       "      <th>permalink</th>\n",
       "      <th>name</th>\n",
       "      <th>homepage_url</th>\n",
       "      <th>category_list</th>\n",
       "      <th>funding_total_usd</th>\n",
       "      <th>status</th>\n",
       "      <th>country_code</th>\n",
       "      <th>state_code</th>\n",
       "      <th>region</th>\n",
       "      <th>city</th>\n",
       "      <th>funding_rounds</th>\n",
       "      <th>founded_at</th>\n",
       "      <th>first_funding_at</th>\n",
       "      <th>last_funding_at</th>\n",
       "    </tr>\n",
       "  </thead>\n",
       "  <tbody>\n",
       "    <tr>\n",
       "      <th>0</th>\n",
       "      <td>/organization/-fame</td>\n",
       "      <td>#fame</td>\n",
       "      <td>http://livfame.com</td>\n",
       "      <td>Media</td>\n",
       "      <td>10000000.0</td>\n",
       "      <td>operating</td>\n",
       "      <td>IND</td>\n",
       "      <td>16.0</td>\n",
       "      <td>Mumbai</td>\n",
       "      <td>Mumbai</td>\n",
       "      <td>1</td>\n",
       "      <td>NaT</td>\n",
       "      <td>2015-01-05</td>\n",
       "      <td>2015-01-05</td>\n",
       "    </tr>\n",
       "    <tr>\n",
       "      <th>1</th>\n",
       "      <td>/organization/21diamonds-india</td>\n",
       "      <td>21Diamonds</td>\n",
       "      <td>http://www.21diamonds.de</td>\n",
       "      <td>E-Commerce</td>\n",
       "      <td>6369507.0</td>\n",
       "      <td>operating</td>\n",
       "      <td>IND</td>\n",
       "      <td>10.0</td>\n",
       "      <td>New Delhi</td>\n",
       "      <td>Gurgaon</td>\n",
       "      <td>1</td>\n",
       "      <td>2012-06-01</td>\n",
       "      <td>2012-11-15</td>\n",
       "      <td>2012-11-15</td>\n",
       "    </tr>\n",
       "    <tr>\n",
       "      <th>2</th>\n",
       "      <td>/organization/247-learning-private</td>\n",
       "      <td>24x7 Learning</td>\n",
       "      <td>http://www.24x7learning.com</td>\n",
       "      <td>EdTech|Education|Systems</td>\n",
       "      <td>4000000.0</td>\n",
       "      <td>operating</td>\n",
       "      <td>IND</td>\n",
       "      <td>19.0</td>\n",
       "      <td>Bangalore</td>\n",
       "      <td>Bangalore</td>\n",
       "      <td>1</td>\n",
       "      <td>2001-01-01</td>\n",
       "      <td>2007-11-06</td>\n",
       "      <td>2007-11-06</td>\n",
       "    </tr>\n",
       "    <tr>\n",
       "      <th>3</th>\n",
       "      <td>/organization/33coupons</td>\n",
       "      <td>33Coupons</td>\n",
       "      <td>http://33coupons.in</td>\n",
       "      <td>Internet</td>\n",
       "      <td>20000.0</td>\n",
       "      <td>operating</td>\n",
       "      <td>IND</td>\n",
       "      <td>36.0</td>\n",
       "      <td>Kanpur</td>\n",
       "      <td>Kanpur</td>\n",
       "      <td>1</td>\n",
       "      <td>2015-05-01</td>\n",
       "      <td>2015-07-06</td>\n",
       "      <td>2015-07-06</td>\n",
       "    </tr>\n",
       "    <tr>\n",
       "      <th>4</th>\n",
       "      <td>/organization/3dsoc</td>\n",
       "      <td>3DSoC</td>\n",
       "      <td>http://www.3dsoc.com</td>\n",
       "      <td>3D|Mobile</td>\n",
       "      <td>2065000.0</td>\n",
       "      <td>operating</td>\n",
       "      <td>IND</td>\n",
       "      <td>19.0</td>\n",
       "      <td>Bangalore</td>\n",
       "      <td>Bangalore</td>\n",
       "      <td>2</td>\n",
       "      <td>2006-06-01</td>\n",
       "      <td>2007-12-01</td>\n",
       "      <td>2010-08-01</td>\n",
       "    </tr>\n",
       "  </tbody>\n",
       "</table>\n",
       "</div>"
      ],
      "text/plain": [
       "                            permalink           name  \\\n",
       "0                 /organization/-fame          #fame   \n",
       "1      /organization/21diamonds-india     21Diamonds   \n",
       "2  /organization/247-learning-private  24x7 Learning   \n",
       "3             /organization/33coupons      33Coupons   \n",
       "4                 /organization/3dsoc          3DSoC   \n",
       "\n",
       "                  homepage_url             category_list  funding_total_usd  \\\n",
       "0           http://livfame.com                     Media         10000000.0   \n",
       "1     http://www.21diamonds.de                E-Commerce          6369507.0   \n",
       "2  http://www.24x7learning.com  EdTech|Education|Systems          4000000.0   \n",
       "3          http://33coupons.in                  Internet            20000.0   \n",
       "4         http://www.3dsoc.com                 3D|Mobile          2065000.0   \n",
       "\n",
       "      status country_code  state_code     region       city  funding_rounds  \\\n",
       "0  operating          IND        16.0     Mumbai     Mumbai               1   \n",
       "1  operating          IND        10.0  New Delhi    Gurgaon               1   \n",
       "2  operating          IND        19.0  Bangalore  Bangalore               1   \n",
       "3  operating          IND        36.0     Kanpur     Kanpur               1   \n",
       "4  operating          IND        19.0  Bangalore  Bangalore               2   \n",
       "\n",
       "  founded_at first_funding_at last_funding_at  \n",
       "0        NaT       2015-01-05      2015-01-05  \n",
       "1 2012-06-01       2012-11-15      2012-11-15  \n",
       "2 2001-01-01       2007-11-06      2007-11-06  \n",
       "3 2015-05-01       2015-07-06      2015-07-06  \n",
       "4 2006-06-01       2007-12-01      2010-08-01  "
      ]
     },
     "execution_count": 3,
     "metadata": {},
     "output_type": "execute_result"
    }
   ],
   "source": [
    "#viewing the data\n",
    "df.head()\n"
   ]
  },
  {
   "cell_type": "code",
   "execution_count": 4,
   "id": "8f9c6b8d",
   "metadata": {},
   "outputs": [
    {
     "data": {
      "text/plain": [
       "(1134, 14)"
      ]
     },
     "execution_count": 4,
     "metadata": {},
     "output_type": "execute_result"
    }
   ],
   "source": [
    "df.shape"
   ]
  },
  {
   "cell_type": "markdown",
   "id": "855067c3",
   "metadata": {},
   "source": [
    "In our dataset there is information about 1134 Indian Startups, capturing essentials details about them across 13 columns. while all the features provide valuable insights, our primary focus will be on *\"funding_total_usd\", \"status\"* and *\"funding rounds\"*"
   ]
  },
  {
   "cell_type": "markdown",
   "id": "b1dee57a",
   "metadata": {},
   "source": [
    "#### Step 1: Building The Hypothesis\n",
    "\n",
    "##### Mean Funds Raised\n",
    "\n",
    "Null Hypothesis(H0) : There is no statistically significant difference between the mean funds recieved by the startups that are operational and whose status is closed.\n",
    "\n",
    "Alternate Hypothesis(H1): There is a statistically significant difference between he mean funds recieved by the startups that are operational and whose status is closed.\n",
    "\n",
    "##### Number Of Funding Rounds\n",
    "\n",
    "Null Hypotheis(H0): There is no statistically significant difference in the number of funding rounds between currently operating startups and startups that have closed.\n",
    "\n",
    "Alternative Hypothesis (H1): There is a statistically significant difference in the number of funding rounds between currently operating startups and startups that have closed."
   ]
  },
  {
   "cell_type": "markdown",
   "id": "c7e57914",
   "metadata": {},
   "source": [
    "#### Step 2: Data Exploration And Validation\n"
   ]
  },
  {
   "cell_type": "code",
   "execution_count": 5,
   "id": "24d7573e",
   "metadata": {},
   "outputs": [
    {
     "data": {
      "text/plain": [
       "(1134, 14)"
      ]
     },
     "execution_count": 5,
     "metadata": {},
     "output_type": "execute_result"
    }
   ],
   "source": [
    "# Removing duplicates if any\n",
    "\n",
    "df.drop_duplicates().shape"
   ]
  },
  {
   "cell_type": "markdown",
   "id": "d52150b4",
   "metadata": {},
   "source": [
    "There are no duplicates"
   ]
  },
  {
   "cell_type": "code",
   "execution_count": 6,
   "id": "59fe2773",
   "metadata": {},
   "outputs": [
    {
     "data": {
      "text/plain": [
       "funding_total_usd    0\n",
       "status               0\n",
       "funding_rounds       0\n",
       "dtype: int64"
      ]
     },
     "execution_count": 6,
     "metadata": {},
     "output_type": "execute_result"
    }
   ],
   "source": [
    "# Checking if there are any null values\n",
    "\n",
    "# Columns to check\n",
    "\n",
    "columns_to_check=['funding_total_usd','status','funding_rounds']\n",
    "\n",
    "df[columns_to_check].isnull().sum()"
   ]
  },
  {
   "cell_type": "markdown",
   "id": "e340ca2d",
   "metadata": {},
   "source": [
    "There are no null values in the columns of our interest"
   ]
  },
  {
   "cell_type": "code",
   "execution_count": 7,
   "id": "e18ad48b",
   "metadata": {},
   "outputs": [],
   "source": [
    "# visulaising the status column\n",
    "status_counts=df['status'].value_counts()\n"
   ]
  },
  {
   "cell_type": "code",
   "execution_count": 8,
   "id": "93f3ba27",
   "metadata": {},
   "outputs": [
    {
     "data": {
      "image/png": "[encoded data removed]",
      "text/plain": [
       "<Figure size 640x480 with 1 Axes>"
      ]
     },
     "metadata": {},
     "output_type": "display_data"
    }
   ],
   "source": [
    "plt.bar(status_counts.index,status_counts.values,color='lightblue',edgecolor='black')\n",
    "plt.xlabel(\"Startup Status\")\n",
    "plt.ylabel(\"Count\")\n",
    "plt.title(\"Distribution of startup status\")\n",
    "\n",
    "\n",
    "#adding the value counts to the bar\n",
    "\n",
    "for i, v in enumerate(status_counts):\n",
    "    plt.text(i,v+15,v)\n",
    "\n",
    "# i: This is the x-coordinate where the data label will be placed.\n",
    "# v + 10: This is the y-coordinate where the data label will be placed    "
   ]
  },
  {
   "cell_type": "code",
   "execution_count": 9,
   "id": "921764cc",
   "metadata": {},
   "outputs": [
    {
     "name": "stdout",
     "output_type": "stream",
     "text": [
      "count         1134\n",
      "mean      23391193\n",
      "std      153640842\n",
      "min            569\n",
      "25%         200000\n",
      "50%        1275000\n",
      "75%       10000000\n",
      "max     3151140000\n",
      "Name: funding_total_usd, dtype: float64\n"
     ]
    }
   ],
   "source": [
    "# Lets dive into the Funding column\n",
    "# Set the display format for float numbers to display complete numbers\n",
    "\n",
    "pd.options.display.float_format = '{:.0f}'.format\n",
    "\n",
    "# By setting pd.options.display.float_format to ' {:.0f}'.format, you instruct pandas to format floating-point numbers with \n",
    "# zero decimal places, effectively displaying complete numbers.\n",
    "\n",
    "summary=df['funding_total_usd'].describe()\n",
    "print(summary)"
   ]
  },
  {
   "cell_type": "markdown",
   "id": "840036fc",
   "metadata": {},
   "source": [
    "The overall average funding recieved is 24 million dollars. Its intertesting to note that the minimum funding recieved is 569 dollars\n",
    "and the maximum funding recieved is 3 Billion US dollars."
   ]
  },
  {
   "cell_type": "code",
   "execution_count": 10,
   "id": "7d7fdff0",
   "metadata": {},
   "outputs": [
    {
     "data": {
      "text/html": [
       "<div>\n",
       "<style scoped>\n",
       "    .dataframe tbody tr th:only-of-type {\n",
       "        vertical-align: middle;\n",
       "    }\n",
       "\n",
       "    .dataframe tbody tr th {\n",
       "        vertical-align: top;\n",
       "    }\n",
       "\n",
       "    .dataframe thead th {\n",
       "        text-align: right;\n",
       "    }\n",
       "</style>\n",
       "<table border=\"1\" class=\"dataframe\">\n",
       "  <thead>\n",
       "    <tr style=\"text-align: right;\">\n",
       "      <th></th>\n",
       "      <th>permalink</th>\n",
       "      <th>name</th>\n",
       "      <th>homepage_url</th>\n",
       "      <th>category_list</th>\n",
       "      <th>funding_total_usd</th>\n",
       "      <th>status</th>\n",
       "      <th>country_code</th>\n",
       "      <th>state_code</th>\n",
       "      <th>region</th>\n",
       "      <th>city</th>\n",
       "      <th>funding_rounds</th>\n",
       "      <th>founded_at</th>\n",
       "      <th>first_funding_at</th>\n",
       "      <th>last_funding_at</th>\n",
       "    </tr>\n",
       "  </thead>\n",
       "  <tbody>\n",
       "    <tr>\n",
       "      <th>834</th>\n",
       "      <td>/organization/ruralserver</td>\n",
       "      <td>RuralServer</td>\n",
       "      <td>http://www.ruralserver.com</td>\n",
       "      <td>Cloud Computing|Cloud Data Services|Domains|In...</td>\n",
       "      <td>569</td>\n",
       "      <td>operating</td>\n",
       "      <td>IND</td>\n",
       "      <td>36</td>\n",
       "      <td>New Delhi</td>\n",
       "      <td>Noida</td>\n",
       "      <td>1</td>\n",
       "      <td>2010-01-01</td>\n",
       "      <td>2013-10-17</td>\n",
       "      <td>2013-10-17</td>\n",
       "    </tr>\n",
       "  </tbody>\n",
       "</table>\n",
       "</div>"
      ],
      "text/plain": [
       "                     permalink         name                homepage_url  \\\n",
       "834  /organization/ruralserver  RuralServer  http://www.ruralserver.com   \n",
       "\n",
       "                                         category_list  funding_total_usd  \\\n",
       "834  Cloud Computing|Cloud Data Services|Domains|In...                569   \n",
       "\n",
       "        status country_code  state_code     region   city  funding_rounds  \\\n",
       "834  operating          IND          36  New Delhi  Noida               1   \n",
       "\n",
       "    founded_at first_funding_at last_funding_at  \n",
       "834 2010-01-01       2013-10-17      2013-10-17  "
      ]
     },
     "execution_count": 10,
     "metadata": {},
     "output_type": "execute_result"
    }
   ],
   "source": [
    "# Identifying the startup with minimum funding\n",
    "\n",
    "df[df[\"funding_total_usd\"]==569]"
   ]
  },
  {
   "cell_type": "markdown",
   "id": "937c7fac",
   "metadata": {},
   "source": [
    "RuralServer, despite it being the least funded startup, it still operates successfully."
   ]
  },
  {
   "cell_type": "code",
   "execution_count": 11,
   "id": "30f85334",
   "metadata": {},
   "outputs": [
    {
     "data": {
      "text/html": [
       "<div>\n",
       "<style scoped>\n",
       "    .dataframe tbody tr th:only-of-type {\n",
       "        vertical-align: middle;\n",
       "    }\n",
       "\n",
       "    .dataframe tbody tr th {\n",
       "        vertical-align: top;\n",
       "    }\n",
       "\n",
       "    .dataframe thead th {\n",
       "        text-align: right;\n",
       "    }\n",
       "</style>\n",
       "<table border=\"1\" class=\"dataframe\">\n",
       "  <thead>\n",
       "    <tr style=\"text-align: right;\">\n",
       "      <th></th>\n",
       "      <th>permalink</th>\n",
       "      <th>name</th>\n",
       "      <th>homepage_url</th>\n",
       "      <th>category_list</th>\n",
       "      <th>funding_total_usd</th>\n",
       "      <th>status</th>\n",
       "      <th>country_code</th>\n",
       "      <th>state_code</th>\n",
       "      <th>region</th>\n",
       "      <th>city</th>\n",
       "      <th>funding_rounds</th>\n",
       "      <th>founded_at</th>\n",
       "      <th>first_funding_at</th>\n",
       "      <th>last_funding_at</th>\n",
       "    </tr>\n",
       "  </thead>\n",
       "  <tbody>\n",
       "    <tr>\n",
       "      <th>321</th>\n",
       "      <td>/organization/flipkart</td>\n",
       "      <td>Flipkart</td>\n",
       "      <td>http://www.flipkart.com</td>\n",
       "      <td>E-Commerce|Online Shopping</td>\n",
       "      <td>3151140000</td>\n",
       "      <td>operating</td>\n",
       "      <td>IND</td>\n",
       "      <td>19</td>\n",
       "      <td>Bangalore</td>\n",
       "      <td>Bangalore</td>\n",
       "      <td>12</td>\n",
       "      <td>2007-09-01</td>\n",
       "      <td>2009-01-01</td>\n",
       "      <td>2015-07-28</td>\n",
       "    </tr>\n",
       "  </tbody>\n",
       "</table>\n",
       "</div>"
      ],
      "text/plain": [
       "                  permalink      name             homepage_url  \\\n",
       "321  /organization/flipkart  Flipkart  http://www.flipkart.com   \n",
       "\n",
       "                  category_list  funding_total_usd     status country_code  \\\n",
       "321  E-Commerce|Online Shopping         3151140000  operating          IND   \n",
       "\n",
       "     state_code     region       city  funding_rounds founded_at  \\\n",
       "321          19  Bangalore  Bangalore              12 2007-09-01   \n",
       "\n",
       "    first_funding_at last_funding_at  \n",
       "321       2009-01-01      2015-07-28  "
      ]
     },
     "execution_count": 11,
     "metadata": {},
     "output_type": "execute_result"
    }
   ],
   "source": [
    "# Maximum Funding\n",
    "df[df['funding_total_usd']==3151140000]"
   ]
  },
  {
   "cell_type": "markdown",
   "id": "91a95e97",
   "metadata": {},
   "source": [
    "The highest funding recieved is for Flipkart, now an ecommerce giant in India."
   ]
  },
  {
   "cell_type": "code",
   "execution_count": 12,
   "id": "fbc95ac2",
   "metadata": {},
   "outputs": [
    {
     "data": {
      "image/png": "[encoded data removed]",
      "text/plain": [
       "<Figure size 1200x600 with 1 Axes>"
      ]
     },
     "metadata": {},
     "output_type": "display_data"
    }
   ],
   "source": [
    "funding_round_count= df['funding_rounds'].value_counts().sort_index()\n",
    "\n",
    "#plotting the values in bar graph\n",
    "plt.figure(figsize=(12,6))\n",
    "bars=plt.bar(funding_round_count.index,funding_round_count.values,color='skyblue',edgecolor='black')\n",
    "plt.xlabel(\"Number of funding rounds\")\n",
    "plt.ylabel(\"Count\")\n",
    "plt.title(\"Distribution of Number of funding rounds\")\n",
    "plt.grid(axis='y', linestyle='--', alpha=0.7)\n",
    "\n",
    "# Set the x-axis ticks explicitly to ensure all values are visible\n",
    "plt.xticks(funding_round_count.index)\n",
    "\n",
    "#addiing data labels(count values) to the bars\n",
    "\n",
    "for bar, count in zip(bars, funding_round_count):\n",
    "    plt.text(bar.get_x() + bar.get_width() / 2, bar.get_height() + 10, count, ha='center')\n",
    "# bar.get_x() + bar.get_width() / 2: This part determines the x-coordinate where the data label will be placed. \n",
    "# It calculates the center of the current bar by adding half of the bar's width to its starting x-coordinate.\n",
    "# bar.get_height() + 10: This part determines the y-coordinate where the data label will be placed. \n",
    "# It positions the label slightly above the top of the bar by adding 10 units to the bar's height.\n",
    "\n",
    "\n",
    "\n"
   ]
  },
  {
   "cell_type": "markdown",
   "id": "b33d5b35",
   "metadata": {},
   "source": [
    "Its quite intersting to see that the large proportion of startups have only undergone only one round of funding(795 to be exact) and there are only two startups who has secured more than 8 funding rounds.\n",
    "\n",
    "so we can categorise the funding rounds into three categories, 1,2,3+ while doing the hypothesis testing\n"
   ]
  },
  {
   "cell_type": "code",
   "execution_count": 13,
   "id": "05b53c5c",
   "metadata": {},
   "outputs": [
    {
     "data": {
      "text/html": [
       "<div>\n",
       "<style scoped>\n",
       "    .dataframe tbody tr th:only-of-type {\n",
       "        vertical-align: middle;\n",
       "    }\n",
       "\n",
       "    .dataframe tbody tr th {\n",
       "        vertical-align: top;\n",
       "    }\n",
       "\n",
       "    .dataframe thead th {\n",
       "        text-align: right;\n",
       "    }\n",
       "</style>\n",
       "<table border=\"1\" class=\"dataframe\">\n",
       "  <thead>\n",
       "    <tr style=\"text-align: right;\">\n",
       "      <th></th>\n",
       "      <th>permalink</th>\n",
       "      <th>name</th>\n",
       "      <th>homepage_url</th>\n",
       "      <th>category_list</th>\n",
       "      <th>funding_total_usd</th>\n",
       "      <th>status</th>\n",
       "      <th>country_code</th>\n",
       "      <th>state_code</th>\n",
       "      <th>region</th>\n",
       "      <th>city</th>\n",
       "      <th>funding_rounds</th>\n",
       "      <th>founded_at</th>\n",
       "      <th>first_funding_at</th>\n",
       "      <th>last_funding_at</th>\n",
       "    </tr>\n",
       "  </thead>\n",
       "  <tbody>\n",
       "    <tr>\n",
       "      <th>889</th>\n",
       "      <td>/organization/snapdeal</td>\n",
       "      <td>Snapdeal</td>\n",
       "      <td>http://www.snapdeal.com</td>\n",
       "      <td>E-Commerce</td>\n",
       "      <td>1897699998</td>\n",
       "      <td>operating</td>\n",
       "      <td>IND</td>\n",
       "      <td>7</td>\n",
       "      <td>New Delhi</td>\n",
       "      <td>New Delhi</td>\n",
       "      <td>11</td>\n",
       "      <td>2010-01-01</td>\n",
       "      <td>2011-01-01</td>\n",
       "      <td>2015-08-18</td>\n",
       "    </tr>\n",
       "  </tbody>\n",
       "</table>\n",
       "</div>"
      ],
      "text/plain": [
       "                  permalink      name             homepage_url category_list  \\\n",
       "889  /organization/snapdeal  Snapdeal  http://www.snapdeal.com    E-Commerce   \n",
       "\n",
       "     funding_total_usd     status country_code  state_code     region  \\\n",
       "889         1897699998  operating          IND           7  New Delhi   \n",
       "\n",
       "          city  funding_rounds founded_at first_funding_at last_funding_at  \n",
       "889  New Delhi              11 2010-01-01       2011-01-01      2015-08-18  "
      ]
     },
     "execution_count": 13,
     "metadata": {},
     "output_type": "execute_result"
    }
   ],
   "source": [
    "#startup with 11 rounds of funding\n",
    "\n",
    "df[df['funding_rounds']==11]"
   ]
  },
  {
   "cell_type": "code",
   "execution_count": 14,
   "id": "07814f90",
   "metadata": {},
   "outputs": [
    {
     "data": {
      "text/html": [
       "<div>\n",
       "<style scoped>\n",
       "    .dataframe tbody tr th:only-of-type {\n",
       "        vertical-align: middle;\n",
       "    }\n",
       "\n",
       "    .dataframe tbody tr th {\n",
       "        vertical-align: top;\n",
       "    }\n",
       "\n",
       "    .dataframe thead th {\n",
       "        text-align: right;\n",
       "    }\n",
       "</style>\n",
       "<table border=\"1\" class=\"dataframe\">\n",
       "  <thead>\n",
       "    <tr style=\"text-align: right;\">\n",
       "      <th></th>\n",
       "      <th>permalink</th>\n",
       "      <th>name</th>\n",
       "      <th>homepage_url</th>\n",
       "      <th>category_list</th>\n",
       "      <th>funding_total_usd</th>\n",
       "      <th>status</th>\n",
       "      <th>country_code</th>\n",
       "      <th>state_code</th>\n",
       "      <th>region</th>\n",
       "      <th>city</th>\n",
       "      <th>funding_rounds</th>\n",
       "      <th>founded_at</th>\n",
       "      <th>first_funding_at</th>\n",
       "      <th>last_funding_at</th>\n",
       "    </tr>\n",
       "  </thead>\n",
       "  <tbody>\n",
       "    <tr>\n",
       "      <th>321</th>\n",
       "      <td>/organization/flipkart</td>\n",
       "      <td>Flipkart</td>\n",
       "      <td>http://www.flipkart.com</td>\n",
       "      <td>E-Commerce|Online Shopping</td>\n",
       "      <td>3151140000</td>\n",
       "      <td>operating</td>\n",
       "      <td>IND</td>\n",
       "      <td>19</td>\n",
       "      <td>Bangalore</td>\n",
       "      <td>Bangalore</td>\n",
       "      <td>12</td>\n",
       "      <td>2007-09-01</td>\n",
       "      <td>2009-01-01</td>\n",
       "      <td>2015-07-28</td>\n",
       "    </tr>\n",
       "  </tbody>\n",
       "</table>\n",
       "</div>"
      ],
      "text/plain": [
       "                  permalink      name             homepage_url  \\\n",
       "321  /organization/flipkart  Flipkart  http://www.flipkart.com   \n",
       "\n",
       "                  category_list  funding_total_usd     status country_code  \\\n",
       "321  E-Commerce|Online Shopping         3151140000  operating          IND   \n",
       "\n",
       "     state_code     region       city  funding_rounds founded_at  \\\n",
       "321          19  Bangalore  Bangalore              12 2007-09-01   \n",
       "\n",
       "    first_funding_at last_funding_at  \n",
       "321       2009-01-01      2015-07-28  "
      ]
     },
     "execution_count": 14,
     "metadata": {},
     "output_type": "execute_result"
    }
   ],
   "source": [
    "#startup with 12 rounds of funding\n",
    "\n",
    "df[df['funding_rounds']==12]"
   ]
  },
  {
   "cell_type": "markdown",
   "id": "a8227aff",
   "metadata": {},
   "source": [
    "These represent some of the foremost e-commerce platforms, notably Snapdeal and Flipkart.\n",
    "\n",
    "Now that we've gained a comprehensive understanding of the dataset, let's proceed to test our hypothesis."
   ]
  },
  {
   "cell_type": "markdown",
   "id": "9e0c3263",
   "metadata": {},
   "source": [
    "#### STEP 3: Selecting the Appropriate Statistical Test\n",
    "\n",
    "### Mean Funds Raised\n",
    "\n",
    "Null Hypothesis (H0): There is no statistically significant difference in the mean funds raised by currently operating startups and startups that have closed.\n",
    "\n",
    "Alternative Hypothesis (H1): There is a statistically significant difference in the mean funds raised by currently operating startups and startups that have closed.\n",
    "\n"
   ]
  },
  {
   "cell_type": "markdown",
   "id": "324b048c",
   "metadata": {},
   "source": [
    "he Levene's Test is a statistical test used to assess whether the variances of two or more groups are equal or homogenous. It is particularly valuable when comparing multiple groups with the same independent variable to ensure that the assumption of homogeneity of variances, a key assumption in many statistical tests, is met.\n",
    "\n",
    "Null Hypothesis (H0): The null hypothesis in Levene's Test is that there are no significant differences in the variances of the groups being compared. In other words, it assumes that the variances are equal across all groups.\n",
    "\n",
    "Alternative Hypothesis (H1): The alternative hypothesis in Levene's Test is that there are significant differences in the variances of the groups being compared. If the p-value is sufficiently small, you would reject the null hypothesis in favor of the alternative, indicating that at least one group has a significantly different variance compared to the others.\n",
    "\n",
    "In practical terms, Levene's Test helps you determine whether it's appropriate to use statistical tests that assume equal variances across groups, such as the independent sample t-test or analysis of variance (ANOVA). If the test indicates unequal variances, you may need to consider alternative statistical methods that are more robust to heteroscedasticity (unequal variances).\n",
    "\n",
    "Overall, Levene's Test is a valuable tool in the field of statistics for assessing the homogeneity of variances and ensuring the validity of subsequent statistical analyses."
   ]
  },
  {
   "cell_type": "code",
   "execution_count": 15,
   "id": "5e56839e",
   "metadata": {},
   "outputs": [
    {
     "name": "stdout",
     "output_type": "stream",
     "text": [
      "Levene's Test Statistic: 0.36074537025282777\n",
      "P-value: 0.5482127964683872\n",
      "Fail to reject the null hypothesis: Variances are equal.\n"
     ]
    }
   ],
   "source": [
    "from scipy import stats\n",
    "\n",
    "group1 = df[df['status'] == 'operating']['funding_total_usd']\n",
    "group2 = df[df['status'] == 'closed']['funding_total_usd']\n",
    "\n",
    "stat, p_value = stats.levene(group1, group2)\n",
    "print(\"Levene's Test Statistic:\", stat)\n",
    "print(\"P-value:\",p_value)\n",
    "\n",
    "if p_value < 0.05:\n",
    "    print(\"Reject the null hypothesis: Variances are not equal.\")\n",
    "else:\n",
    "    print(\"Fail to reject the null hypothesis: Variances are equal.\")"
   ]
  },
  {
   "cell_type": "markdown",
   "id": "ec58f773",
   "metadata": {},
   "source": [
    "We have determined that the variances are equal, thus meeting the assumption for the independent sample t-test. We can now proceed with the independent sample t-test confidently.\""
   ]
  },
  {
   "cell_type": "markdown",
   "id": "9d8b32f3",
   "metadata": {},
   "source": [
    "### Number of Funding Rounds"
   ]
  },
  {
   "cell_type": "markdown",
   "id": "c10114b5",
   "metadata": {},
   "source": [
    "The Chi-Square Test of Independence is typically used when you have categorical data and you want to investigate whether there is a statistically significant association or relationship between two categorical variables.\n",
    "\n",
    "In our case, you are interested in the number of funding rounds (which is likely a discrete, count variable) and the status of startups (which is categorical - either \"currently operating\" or \"closed\").\n",
    "\n",
    "Here's why the Chi-Square Test of Independence is suitable for our hypothesis.\n",
    "\n",
    "We know that observations are independent, Cells in the contingency table are mutually exclusive, The only thing we need to check is if ~ Expected value of cells should be 5 or greater in at least 80% of cells."
   ]
  },
  {
   "cell_type": "markdown",
   "id": "466fab1f",
   "metadata": {},
   "source": [
    "#### Step 4 & 5: Statistical Analysis & Conclusion"
   ]
  },
  {
   "cell_type": "markdown",
   "id": "441aff21",
   "metadata": {},
   "source": [
    "### Mean Fund Raised"
   ]
  },
  {
   "cell_type": "code",
   "execution_count": 16,
   "id": "a3bc6472",
   "metadata": {},
   "outputs": [
    {
     "data": {
      "text/plain": [
       "1085"
      ]
     },
     "execution_count": 16,
     "metadata": {},
     "output_type": "execute_result"
    }
   ],
   "source": [
    "# No of startups which are operating\n",
    "\n",
    "df[df['status']=='operating']['funding_total_usd'].count()"
   ]
  },
  {
   "cell_type": "code",
   "execution_count": 17,
   "id": "0fc81152",
   "metadata": {},
   "outputs": [
    {
     "data": {
      "text/plain": [
       "49"
      ]
     },
     "execution_count": 17,
     "metadata": {},
     "output_type": "execute_result"
    }
   ],
   "source": [
    "# No of startups which are closed\n",
    "\n",
    "df[df['status']=='closed']['funding_total_usd'].count()\n"
   ]
  },
  {
   "cell_type": "code",
   "execution_count": 18,
   "id": "8753576f",
   "metadata": {},
   "outputs": [],
   "source": [
    "# creating a dataframe with operating startups and their total_funding\n",
    "\n",
    "df1= df.loc[df['status']=='operating',['funding_total_usd']].rename(columns={'funding_total_usd':'funds_sample1'}).reset_index(drop=True)"
   ]
  },
  {
   "cell_type": "code",
   "execution_count": 19,
   "id": "d651190d",
   "metadata": {},
   "outputs": [
    {
     "data": {
      "text/html": [
       "<div>\n",
       "<style scoped>\n",
       "    .dataframe tbody tr th:only-of-type {\n",
       "        vertical-align: middle;\n",
       "    }\n",
       "\n",
       "    .dataframe tbody tr th {\n",
       "        vertical-align: top;\n",
       "    }\n",
       "\n",
       "    .dataframe thead th {\n",
       "        text-align: right;\n",
       "    }\n",
       "</style>\n",
       "<table border=\"1\" class=\"dataframe\">\n",
       "  <thead>\n",
       "    <tr style=\"text-align: right;\">\n",
       "      <th></th>\n",
       "      <th>funds_sample1</th>\n",
       "    </tr>\n",
       "  </thead>\n",
       "  <tbody>\n",
       "    <tr>\n",
       "      <th>0</th>\n",
       "      <td>10000000</td>\n",
       "    </tr>\n",
       "    <tr>\n",
       "      <th>1</th>\n",
       "      <td>6369507</td>\n",
       "    </tr>\n",
       "    <tr>\n",
       "      <th>2</th>\n",
       "      <td>4000000</td>\n",
       "    </tr>\n",
       "    <tr>\n",
       "      <th>3</th>\n",
       "      <td>20000</td>\n",
       "    </tr>\n",
       "    <tr>\n",
       "      <th>4</th>\n",
       "      <td>2065000</td>\n",
       "    </tr>\n",
       "  </tbody>\n",
       "</table>\n",
       "</div>"
      ],
      "text/plain": [
       "   funds_sample1\n",
       "0       10000000\n",
       "1        6369507\n",
       "2        4000000\n",
       "3          20000\n",
       "4        2065000"
      ]
     },
     "execution_count": 19,
     "metadata": {},
     "output_type": "execute_result"
    }
   ],
   "source": [
    "df1.head()"
   ]
  },
  {
   "cell_type": "code",
   "execution_count": 20,
   "id": "ee99b0c1",
   "metadata": {},
   "outputs": [],
   "source": [
    "#creating a dataframe with closed startups and their total_funding\n",
    "df2=df.loc[df['status']=='closed',['funding_total_usd']].rename(columns={'funding_total_usd':'funds_sample2'}).reset_index(drop=True)"
   ]
  },
  {
   "cell_type": "code",
   "execution_count": 21,
   "id": "e954d124",
   "metadata": {},
   "outputs": [
    {
     "data": {
      "text/html": [
       "<div>\n",
       "<style scoped>\n",
       "    .dataframe tbody tr th:only-of-type {\n",
       "        vertical-align: middle;\n",
       "    }\n",
       "\n",
       "    .dataframe tbody tr th {\n",
       "        vertical-align: top;\n",
       "    }\n",
       "\n",
       "    .dataframe thead th {\n",
       "        text-align: right;\n",
       "    }\n",
       "</style>\n",
       "<table border=\"1\" class=\"dataframe\">\n",
       "  <thead>\n",
       "    <tr style=\"text-align: right;\">\n",
       "      <th></th>\n",
       "      <th>funds_sample2</th>\n",
       "    </tr>\n",
       "  </thead>\n",
       "  <tbody>\n",
       "    <tr>\n",
       "      <th>0</th>\n",
       "      <td>25000</td>\n",
       "    </tr>\n",
       "    <tr>\n",
       "      <th>1</th>\n",
       "      <td>10000</td>\n",
       "    </tr>\n",
       "    <tr>\n",
       "      <th>2</th>\n",
       "      <td>10000000</td>\n",
       "    </tr>\n",
       "    <tr>\n",
       "      <th>3</th>\n",
       "      <td>40000</td>\n",
       "    </tr>\n",
       "    <tr>\n",
       "      <th>4</th>\n",
       "      <td>25000000</td>\n",
       "    </tr>\n",
       "  </tbody>\n",
       "</table>\n",
       "</div>"
      ],
      "text/plain": [
       "   funds_sample2\n",
       "0          25000\n",
       "1          10000\n",
       "2       10000000\n",
       "3          40000\n",
       "4       25000000"
      ]
     },
     "execution_count": 21,
     "metadata": {},
     "output_type": "execute_result"
    }
   ],
   "source": [
    "df2.head()"
   ]
  },
  {
   "cell_type": "code",
   "execution_count": 22,
   "id": "fa57a8ee",
   "metadata": {},
   "outputs": [
    {
     "data": {
      "text/html": [
       "<div>\n",
       "<style scoped>\n",
       "    .dataframe tbody tr th:only-of-type {\n",
       "        vertical-align: middle;\n",
       "    }\n",
       "\n",
       "    .dataframe tbody tr th {\n",
       "        vertical-align: top;\n",
       "    }\n",
       "\n",
       "    .dataframe thead th {\n",
       "        text-align: right;\n",
       "    }\n",
       "</style>\n",
       "<table border=\"1\" class=\"dataframe\">\n",
       "  <thead>\n",
       "    <tr style=\"text-align: right;\">\n",
       "      <th></th>\n",
       "      <th>funds_sample1</th>\n",
       "      <th>funds_sample2</th>\n",
       "    </tr>\n",
       "  </thead>\n",
       "  <tbody>\n",
       "    <tr>\n",
       "      <th>0</th>\n",
       "      <td>10000000</td>\n",
       "      <td>25000</td>\n",
       "    </tr>\n",
       "    <tr>\n",
       "      <th>1</th>\n",
       "      <td>6369507</td>\n",
       "      <td>10000</td>\n",
       "    </tr>\n",
       "    <tr>\n",
       "      <th>2</th>\n",
       "      <td>4000000</td>\n",
       "      <td>10000000</td>\n",
       "    </tr>\n",
       "    <tr>\n",
       "      <th>3</th>\n",
       "      <td>20000</td>\n",
       "      <td>40000</td>\n",
       "    </tr>\n",
       "    <tr>\n",
       "      <th>4</th>\n",
       "      <td>2065000</td>\n",
       "      <td>25000000</td>\n",
       "    </tr>\n",
       "  </tbody>\n",
       "</table>\n",
       "</div>"
      ],
      "text/plain": [
       "   funds_sample1  funds_sample2\n",
       "0       10000000          25000\n",
       "1        6369507          10000\n",
       "2        4000000       10000000\n",
       "3          20000          40000\n",
       "4        2065000       25000000"
      ]
     },
     "execution_count": 22,
     "metadata": {},
     "output_type": "execute_result"
    }
   ],
   "source": [
    "#creating a new data frame by combining the two dataframes\n",
    "df3=pd.concat([df1,df2],axis=1)\n",
    "df3.head()"
   ]
  },
  {
   "cell_type": "code",
   "execution_count": 23,
   "id": "ebd9056c",
   "metadata": {},
   "outputs": [
    {
     "name": "stdout",
     "output_type": "stream",
     "text": [
      "Mean funds for startup which are operating 23981373.343251728 USD\n"
     ]
    }
   ],
   "source": [
    "#The funds_sample1\n",
    "# mean funds  for startups which are operating\n",
    "mean_1=df3['funds_sample1'].mean()\n",
    "print('Mean funds for startup which are operating',mean_1,\"USD\")"
   ]
  },
  {
   "cell_type": "code",
   "execution_count": 24,
   "id": "1e1ac698",
   "metadata": {},
   "outputs": [
    {
     "name": "stdout",
     "output_type": "stream",
     "text": [
      "Mean funds for startup which are operating 10322911.346938776 USD\n"
     ]
    }
   ],
   "source": [
    "#The funds_sample2\n",
    "# mean funds  for startups which are closed\n",
    "mean_2=df3['funds_sample2'].mean()\n",
    "print('Mean funds for startup which are operating',mean_2,\"USD\")"
   ]
  },
  {
   "cell_type": "markdown",
   "id": "e73e4252",
   "metadata": {},
   "source": [
    "Null Hypothesis\n",
    "\n",
    "H0:There is no significant difference between the mean funds raised by two groups,i.e.startups which are closed and startups which are operating\n",
    "\n",
    "ie. H0:mean = H1:Mean\n",
    "\n",
    "Alternate Hypothesis\n",
    "\\\n",
    "H1= There is a significant difference between the mean funds raised by the two groups, i.e. startups which are closed and startups whicha are operating\n",
    "\n",
    "i.e H0:Mean != H1:Mean\n",
    "\n",
    "Alpha=0.05"
   ]
  },
  {
   "cell_type": "code",
   "execution_count": 25,
   "id": "bf55729b",
   "metadata": {},
   "outputs": [],
   "source": [
    "#Load Librabry\n",
    "\n",
    "from scipy.stats import ttest_ind"
   ]
  },
  {
   "cell_type": "code",
   "execution_count": 26,
   "id": "279c17e0",
   "metadata": {},
   "outputs": [
    {
     "name": "stdout",
     "output_type": "stream",
     "text": [
      "T statistic 0.6085283061630911\n",
      "P value 0.5429592211146083\n"
     ]
    }
   ],
   "source": [
    "#hypothesis test\n",
    "\n",
    "t,pvalue=ttest_ind(df3['funds_sample1'],df3['funds_sample2'],nan_policy='omit')\n",
    "print(\"T statistic\",t)\n",
    "print(\"P value\",pvalue)"
   ]
  },
  {
   "cell_type": "markdown",
   "id": "8ca009c5",
   "metadata": {},
   "source": [
    "The p-value, which is greater than the chosen alpha level (i.e., 0.54 > 0.05), leads us to fail to reject the null hypothesis with 95% confidence. Therefore, we conclude that there is no statistically significant difference in the funds raised between currently operating startups and closed startups."
   ]
  },
  {
   "cell_type": "markdown",
   "id": "be220a8c",
   "metadata": {},
   "source": [
    "### Number Of Funding Rounds"
   ]
  },
  {
   "cell_type": "code",
   "execution_count": 27,
   "id": "e488d8a0",
   "metadata": {},
   "outputs": [],
   "source": [
    "#defining a fucntion to categorizer funding rounds\n",
    "def categorise_rounds(round):\n",
    "    if round==1:\n",
    "        return '1'\n",
    "    elif round==2:\n",
    "        return '2'\n",
    "    else:\n",
    "        return '3+'\n",
    "#Apply the categorize_rounds function to create a new 'category' column    \n",
    "df['round of funding category']=df['funding_rounds'].apply(categorise_rounds)    "
   ]
  },
  {
   "cell_type": "code",
   "execution_count": 28,
   "id": "dc06ac0a",
   "metadata": {},
   "outputs": [
    {
     "data": {
      "text/html": [
       "<div>\n",
       "<style scoped>\n",
       "    .dataframe tbody tr th:only-of-type {\n",
       "        vertical-align: middle;\n",
       "    }\n",
       "\n",
       "    .dataframe tbody tr th {\n",
       "        vertical-align: top;\n",
       "    }\n",
       "\n",
       "    .dataframe thead th {\n",
       "        text-align: right;\n",
       "    }\n",
       "</style>\n",
       "<table border=\"1\" class=\"dataframe\">\n",
       "  <thead>\n",
       "    <tr style=\"text-align: right;\">\n",
       "      <th></th>\n",
       "      <th>permalink</th>\n",
       "      <th>name</th>\n",
       "      <th>homepage_url</th>\n",
       "      <th>category_list</th>\n",
       "      <th>funding_total_usd</th>\n",
       "      <th>status</th>\n",
       "      <th>country_code</th>\n",
       "      <th>state_code</th>\n",
       "      <th>region</th>\n",
       "      <th>city</th>\n",
       "      <th>funding_rounds</th>\n",
       "      <th>founded_at</th>\n",
       "      <th>first_funding_at</th>\n",
       "      <th>last_funding_at</th>\n",
       "      <th>round of funding category</th>\n",
       "    </tr>\n",
       "  </thead>\n",
       "  <tbody>\n",
       "    <tr>\n",
       "      <th>0</th>\n",
       "      <td>/organization/-fame</td>\n",
       "      <td>#fame</td>\n",
       "      <td>http://livfame.com</td>\n",
       "      <td>Media</td>\n",
       "      <td>10000000</td>\n",
       "      <td>operating</td>\n",
       "      <td>IND</td>\n",
       "      <td>16</td>\n",
       "      <td>Mumbai</td>\n",
       "      <td>Mumbai</td>\n",
       "      <td>1</td>\n",
       "      <td>NaT</td>\n",
       "      <td>2015-01-05</td>\n",
       "      <td>2015-01-05</td>\n",
       "      <td>1</td>\n",
       "    </tr>\n",
       "    <tr>\n",
       "      <th>1</th>\n",
       "      <td>/organization/21diamonds-india</td>\n",
       "      <td>21Diamonds</td>\n",
       "      <td>http://www.21diamonds.de</td>\n",
       "      <td>E-Commerce</td>\n",
       "      <td>6369507</td>\n",
       "      <td>operating</td>\n",
       "      <td>IND</td>\n",
       "      <td>10</td>\n",
       "      <td>New Delhi</td>\n",
       "      <td>Gurgaon</td>\n",
       "      <td>1</td>\n",
       "      <td>2012-06-01</td>\n",
       "      <td>2012-11-15</td>\n",
       "      <td>2012-11-15</td>\n",
       "      <td>1</td>\n",
       "    </tr>\n",
       "    <tr>\n",
       "      <th>2</th>\n",
       "      <td>/organization/247-learning-private</td>\n",
       "      <td>24x7 Learning</td>\n",
       "      <td>http://www.24x7learning.com</td>\n",
       "      <td>EdTech|Education|Systems</td>\n",
       "      <td>4000000</td>\n",
       "      <td>operating</td>\n",
       "      <td>IND</td>\n",
       "      <td>19</td>\n",
       "      <td>Bangalore</td>\n",
       "      <td>Bangalore</td>\n",
       "      <td>1</td>\n",
       "      <td>2001-01-01</td>\n",
       "      <td>2007-11-06</td>\n",
       "      <td>2007-11-06</td>\n",
       "      <td>1</td>\n",
       "    </tr>\n",
       "    <tr>\n",
       "      <th>3</th>\n",
       "      <td>/organization/33coupons</td>\n",
       "      <td>33Coupons</td>\n",
       "      <td>http://33coupons.in</td>\n",
       "      <td>Internet</td>\n",
       "      <td>20000</td>\n",
       "      <td>operating</td>\n",
       "      <td>IND</td>\n",
       "      <td>36</td>\n",
       "      <td>Kanpur</td>\n",
       "      <td>Kanpur</td>\n",
       "      <td>1</td>\n",
       "      <td>2015-05-01</td>\n",
       "      <td>2015-07-06</td>\n",
       "      <td>2015-07-06</td>\n",
       "      <td>1</td>\n",
       "    </tr>\n",
       "    <tr>\n",
       "      <th>4</th>\n",
       "      <td>/organization/3dsoc</td>\n",
       "      <td>3DSoC</td>\n",
       "      <td>http://www.3dsoc.com</td>\n",
       "      <td>3D|Mobile</td>\n",
       "      <td>2065000</td>\n",
       "      <td>operating</td>\n",
       "      <td>IND</td>\n",
       "      <td>19</td>\n",
       "      <td>Bangalore</td>\n",
       "      <td>Bangalore</td>\n",
       "      <td>2</td>\n",
       "      <td>2006-06-01</td>\n",
       "      <td>2007-12-01</td>\n",
       "      <td>2010-08-01</td>\n",
       "      <td>2</td>\n",
       "    </tr>\n",
       "  </tbody>\n",
       "</table>\n",
       "</div>"
      ],
      "text/plain": [
       "                            permalink           name  \\\n",
       "0                 /organization/-fame          #fame   \n",
       "1      /organization/21diamonds-india     21Diamonds   \n",
       "2  /organization/247-learning-private  24x7 Learning   \n",
       "3             /organization/33coupons      33Coupons   \n",
       "4                 /organization/3dsoc          3DSoC   \n",
       "\n",
       "                  homepage_url             category_list  funding_total_usd  \\\n",
       "0           http://livfame.com                     Media           10000000   \n",
       "1     http://www.21diamonds.de                E-Commerce            6369507   \n",
       "2  http://www.24x7learning.com  EdTech|Education|Systems            4000000   \n",
       "3          http://33coupons.in                  Internet              20000   \n",
       "4         http://www.3dsoc.com                 3D|Mobile            2065000   \n",
       "\n",
       "      status country_code  state_code     region       city  funding_rounds  \\\n",
       "0  operating          IND          16     Mumbai     Mumbai               1   \n",
       "1  operating          IND          10  New Delhi    Gurgaon               1   \n",
       "2  operating          IND          19  Bangalore  Bangalore               1   \n",
       "3  operating          IND          36     Kanpur     Kanpur               1   \n",
       "4  operating          IND          19  Bangalore  Bangalore               2   \n",
       "\n",
       "  founded_at first_funding_at last_funding_at round of funding category  \n",
       "0        NaT       2015-01-05      2015-01-05                         1  \n",
       "1 2012-06-01       2012-11-15      2012-11-15                         1  \n",
       "2 2001-01-01       2007-11-06      2007-11-06                         1  \n",
       "3 2015-05-01       2015-07-06      2015-07-06                         1  \n",
       "4 2006-06-01       2007-12-01      2010-08-01                         2  "
      ]
     },
     "execution_count": 28,
     "metadata": {},
     "output_type": "execute_result"
    }
   ],
   "source": [
    "df.head()"
   ]
  },
  {
   "cell_type": "code",
   "execution_count": 31,
   "id": "8780c657",
   "metadata": {},
   "outputs": [
    {
     "data": {
      "text/html": [
       "<div>\n",
       "<style scoped>\n",
       "    .dataframe tbody tr th:only-of-type {\n",
       "        vertical-align: middle;\n",
       "    }\n",
       "\n",
       "    .dataframe tbody tr th {\n",
       "        vertical-align: top;\n",
       "    }\n",
       "\n",
       "    .dataframe thead th {\n",
       "        text-align: right;\n",
       "    }\n",
       "</style>\n",
       "<table border=\"1\" class=\"dataframe\">\n",
       "  <thead>\n",
       "    <tr style=\"text-align: right;\">\n",
       "      <th>status</th>\n",
       "      <th>closed</th>\n",
       "      <th>operating</th>\n",
       "    </tr>\n",
       "    <tr>\n",
       "      <th>round of funding category</th>\n",
       "      <th></th>\n",
       "      <th></th>\n",
       "    </tr>\n",
       "  </thead>\n",
       "  <tbody>\n",
       "    <tr>\n",
       "      <th>1</th>\n",
       "      <td>39</td>\n",
       "      <td>756</td>\n",
       "    </tr>\n",
       "    <tr>\n",
       "      <th>2</th>\n",
       "      <td>7</td>\n",
       "      <td>198</td>\n",
       "    </tr>\n",
       "    <tr>\n",
       "      <th>3+</th>\n",
       "      <td>3</td>\n",
       "      <td>131</td>\n",
       "    </tr>\n",
       "  </tbody>\n",
       "</table>\n",
       "</div>"
      ],
      "text/plain": [
       "status                     closed  operating\n",
       "round of funding category                   \n",
       "1                              39        756\n",
       "2                               7        198\n",
       "3+                              3        131"
      ]
     },
     "execution_count": 31,
     "metadata": {},
     "output_type": "execute_result"
    }
   ],
   "source": [
    "#create cross tabs\n",
    "pd.crosstab(df['round of funding category'],df['status'])"
   ]
  },
  {
   "cell_type": "code",
   "execution_count": 40,
   "id": "849b29f4",
   "metadata": {},
   "outputs": [
    {
     "name": "stdout",
     "output_type": "stream",
     "text": [
      "Expected Frequency Table\n",
      "status                     closed  operating\n",
      "round of funding category                   \n",
      "1                              34        761\n",
      "2                               9        196\n",
      "3+                              6        128\n"
     ]
    }
   ],
   "source": [
    "contingency_table = pd.crosstab(df['round of funding category'],df['status'])\n",
    "\n",
    "#calculate the expected frequencies\n",
    "expected_frequency=stats.contingency.expected_freq(contingency_table)\n",
    "\n",
    "#creating a dataframe to display the expected frequency\n",
    "expected_freq=pd.DataFrame(expected_frequency,columns=contingency_table.columns,index=contigency_table.index)\n",
    "\n",
    "#Display expected frequencies\n",
    "\n",
    "print(\"Expected Frequency Table\")\n",
    "print(expected_freq)\n",
    "\n",
    "\n"
   ]
  },
  {
   "cell_type": "markdown",
   "id": "d0f5a060",
   "metadata": {},
   "source": [
    "All the values in the expected frequencies exceed the threshold of 5, indicating that our dataset meets the assumption of expected cell frequencies for the Chi-Square Test of Independence. Consequently, we are well-equipped to advance with our hypothesis testing\n"
   ]
  },
  {
   "cell_type": "code",
   "execution_count": 41,
   "id": "2d727c55",
   "metadata": {},
   "outputs": [
    {
     "name": "stdout",
     "output_type": "stream",
     "text": [
      "P- Value is 0.2908506204110049\n"
     ]
    }
   ],
   "source": [
    "#import Library\n",
    "from scipy.stats import chi2_contingency\n",
    "\n",
    "# Running the chi_squared test\n",
    "chi2,pval,dof,exp_freq=chi2_contingency(contigency_table,correction=False)\n",
    "\n",
    "print(\"P- Value is\",pval)"
   ]
  },
  {
   "cell_type": "markdown",
   "id": "44054ac8",
   "metadata": {},
   "source": [
    "p value > 0.05 as a result, we fail to reject the null hypothesis. This suggests that there is no statistically significant difference in the number of funding rounds between currently operating startups and startups that have closed, based on our dataset and chosen level of significance."
   ]
  },
  {
   "cell_type": "markdown",
   "id": "12fa9c36",
   "metadata": {},
   "source": [
    "There is no statistically significant difference in the funds raised by currently operating startups and startups that have closed, as per the independent sample t-test.\n",
    "There is no statistically significant association between the number of funding rounds and the status of startups, as indicated by the Chi-Square Test of Independence."
   ]
  },
  {
   "cell_type": "markdown",
   "id": "19d78222",
   "metadata": {},
   "source": [
    "## Thank You!"
   ]
  },
  {
   "cell_type": "code",
   "execution_count": null,
   "id": "ed1e9d00",
   "metadata": {},
   "outputs": [],
   "source": []
  }
 ],
 "metadata": {
  "kernelspec": {
   "display_name": "Python 3 (ipykernel)",
   "language": "python",
   "name": "python3"
  },
  "language_info": {
   "codemirror_mode": {
    "name": "ipython",
    "version": 3
   },
   "file_extension": ".py",
   "mimetype": "text/x-python",
   "name": "python",
   "nbconvert_exporter": "python",
   "pygments_lexer": "ipython3",
   "version": "3.10.9"
  }
 },
 "nbformat": 4,
 "nbformat_minor": 5
}
